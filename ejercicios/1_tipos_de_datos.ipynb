{
 "cells": [
  {
   "cell_type": "markdown",
   "metadata": {},
   "source": [
    "# Ejercicios de Tipos de Datos Simples"
   ]
  },
  {
   "cell_type": "markdown",
   "metadata": {},
   "source": [
    "### Ejercicio 1\n",
    "Escribir un programa que muestre por pantalla la cadena <span style=\"color:#66D9EF\">¡Hola Mundo!</span>."
   ]
  },
  {
   "cell_type": "code",
   "execution_count": 18,
   "metadata": {},
   "outputs": [
    {
     "name": "stdout",
     "output_type": "stream",
     "text": [
      "Hola Mundo\n"
     ]
    }
   ],
   "source": [
    "print(\"Hola Mundo\")\n"
   ]
  },
  {
   "cell_type": "markdown",
   "metadata": {},
   "source": [
    "### Ejercicio 2\n",
    "Escribir un programa que almacene la cadena <span style=\"color:#66D9EF\">¡Hola Mundo!</span> en una variable y luego muestre por pantalla el contenido de la variable"
   ]
  },
  {
   "cell_type": "code",
   "execution_count": 19,
   "metadata": {},
   "outputs": [
    {
     "name": "stdout",
     "output_type": "stream",
     "text": [
      "¡Hola Mundo!\n"
     ]
    }
   ],
   "source": [
    "\n",
    "mensaje = \"¡Hola Mundo!\"\n",
    "print(mensaje)"
   ]
  },
  {
   "cell_type": "markdown",
   "metadata": {},
   "source": [
    "### Ejercicio 3\n",
    "Escribir un programa que pregunte el nombre del usuario en la consola y después de que el usuario lo introduzca muestre por pantalla la cadena <span style=\"color:#66D9EF \">¡Hola \\<nombre\\>!</span>, donde <span style=\"color:#66D9EF\">\\<nombre\\></span> es el nombre que el usuario haya introducido."
   ]
  },
  {
   "cell_type": "code",
   "execution_count": 20,
   "metadata": {},
   "outputs": [
    {
     "name": "stdout",
     "output_type": "stream",
     "text": [
      "¡Hola Arturo!\n"
     ]
    }
   ],
   "source": [
    "nombre = input(\"Introduce tu nombre: \")\n",
    "print(\"¡Hola \" + nombre + \"!\")"
   ]
  },
  {
   "cell_type": "markdown",
   "metadata": {},
   "source": [
    "### Ejercicio 4\n",
    "Escribir un programa que muestre por pantalla el resultado de la siguiente operación aritmética:\n",
    "$$ \\left(\\frac{3+2}{2*5}\\right)^2$$"
   ]
  },
  {
   "cell_type": "code",
   "execution_count": 21,
   "metadata": {},
   "outputs": [
    {
     "name": "stdout",
     "output_type": "stream",
     "text": [
      "0.25\n"
     ]
    }
   ],
   "source": [
    "print(((3 + 2) / (2 * 5)) ** 2)"
   ]
  },
  {
   "cell_type": "markdown",
   "metadata": {},
   "source": [
    "### Ejercicio 5\n",
    "Escribir un programa que pregunte al usuario por el número de horas trabajadas y el coste por hora. Después debe mostrar por pantalla la paga que le corresponde."
   ]
  },
  {
   "cell_type": "code",
   "execution_count": 22,
   "metadata": {},
   "outputs": [
    {
     "name": "stdout",
     "output_type": "stream",
     "text": [
      "Tu paga es 600.0\n"
     ]
    }
   ],
   "source": [
    " horas = float(input(\"Introduce tus horas de trabajo: \"))\n",
    " coste = float(input(\"Introduce lo que cobras por hora: \"))\n",
    " paga = horas * coste\n",
    " print(\"Tu paga es\", paga)"
   ]
  },
  {
   "cell_type": "markdown",
   "metadata": {},
   "source": [
    "### Ejercicio 6\n",
    "Escribir un programa que lea un entero positivo, _n_, introducido por el usuario y después muestre en pantalla la suma de todos los enteros desde 1 hasta _n_ . La suma de los *n* primeros enteros positivos puede ser calculada de la siguiente forma:  \n",
    "$$suma = \\frac{n(n+1)}{2}$$"
   ]
  },
  {
   "cell_type": "code",
   "execution_count": 23,
   "metadata": {},
   "outputs": [
    {
     "name": "stdout",
     "output_type": "stream",
     "text": [
      "La suma de los primeros números enteros desde 1 hasta 50 es 1275.0\n"
     ]
    }
   ],
   "source": [
    "n = int(input(\"Introduce un número entero: \"))\n",
    "suma = n * (n + 1) / 2\n",
    "print(\"La suma de los primeros números enteros desde 1 hasta \" + str(n) + \" es \" + str(suma))"
   ]
  },
  {
   "cell_type": "markdown",
   "metadata": {},
   "source": [
    "### Ejercicio 7\n",
    "Escribir un programa que pida al usuario su peso (en kg) y estatura (en metros), calcule el índice de masa corporal y lo almacene en una variable, y muestre por pantalla la frase Tu índice de masa corporal es <span style=\"color:#66D9EF\">imc</span> donde <span style=\"color:#66D9EF\">imc</span> es el índice de masa corporal calculado redondeado con dos decimales."
   ]
  },
  {
   "cell_type": "code",
   "execution_count": 30,
   "metadata": {},
   "outputs": [
    {
     "name": "stdout",
     "output_type": "stream",
     "text": [
      "Tu índice de masa corporal es 30.86\n"
     ]
    }
   ],
   "source": [
    "p = int(input(\"Introduce tu peso : \"))\n",
    "e = float(input(\"Introduce tu Estatura : \"))\n",
    "imc = round(float(p)/float(e)**2,2)\n",
    "print(\"Tu índice de masa corporal es \" + str(imc))\n",
    "\n"
   ]
  },
  {
   "cell_type": "markdown",
   "metadata": {},
   "source": [
    "### Ejercicio 8\n",
    "Escribir un programa que pida al usuario dos números enteros y muestre por pantalla la <span style=\"color:#66D9EF \">n</span> entre <span style=\"color:#66D9EF \">m</span> da un cociente <span style=\"color:#66D9EF \">c</span> y un resto <span style=\"color:#66D9EF \">r</span> donde <span style=\"color:#66D9EF \">n y m</span> son los números introducidos por el usuario, y <span style=\"color:#66D9EF \">c y r</span> son el cociente y el resto de la división entera respectivamente."
   ]
  },
  {
   "cell_type": "code",
   "execution_count": null,
   "metadata": {},
   "outputs": [],
   "source": [
    "n = int(input(\"Intruduce el primer numero entero : \"))\n",
    "m = int(input(\"Intruduce el segundo numero entero : \"))\n",
    "print(n + \" entre \" +  m + \" da un cociente \" + str(n / m) + \" y un resto \" + str(n % m))"
   ]
  },
  {
   "cell_type": "markdown",
   "metadata": {},
   "source": []
  },
  {
   "cell_type": "markdown",
   "metadata": {},
   "source": []
  },
  {
   "cell_type": "markdown",
   "metadata": {},
   "source": [
    "### Ejercicio 9\n",
    "Escribir un programa que pregunte al usuario una cantidad a invertir, el interés anual y el número de años, y muestre por pantalla el capital obtenido en la inversión."
   ]
  },
  {
   "cell_type": "code",
   "execution_count": 37,
   "metadata": {},
   "outputs": [
    {
     "name": "stdout",
     "output_type": "stream",
     "text": [
      "Capital final: 1210.0\n"
     ]
    }
   ],
   "source": [
    "cantidad = float(input(\"Cantidad a Invertir : \"))\n",
    "interes = float(input(\"Interés anual : \"))\n",
    "años = int(input(\"Numeros de Años : \"))\n",
    "print(\"Capital final: \" + str(round(cantidad * (interes / 100 + 1) ** años, 2)))"
   ]
  },
  {
   "cell_type": "markdown",
   "metadata": {},
   "source": [
    "### Ejercicio 10\n",
    "Una juguetería tiene mucho éxito en dos de sus productos: payasos y muñecas. Suele hacer venta por correo y la empresa de logística les cobra por peso de cada paquete así que deben calcular el peso de los payasos y muñecas que saldrán en cada paquete a demanda. Cada payaso pesa 112 g y cada muñeca 75 g. Escribir un programa que lea el número de payasos y muñecas vendidos en el último pedido y calcule el peso total del paquete que será enviado."
   ]
  },
  {
   "cell_type": "code",
   "execution_count": 10,
   "metadata": {},
   "outputs": [],
   "source": [
    "p = int(input(\"Numero de Payasos Vendidos : \"))\n",
    "m = int(input(\"Numero de Muñecas Vendidos : \"))\n",
    "ppayaso = 112\n",
    "pmuñecas = 75"
   ]
  },
  {
   "cell_type": "markdown",
   "metadata": {},
   "source": [
    "### Ejercicio 11\n",
    "Imagina que acabas de abrir una nueva cuenta de ahorros que te ofrece el 4% de interés al año. Estos ahorros se cobran hasta finales de año. Escribir un programa que comience leyendo la cantidad de dinero depositada en la cuenta de ahorros, introducida por el usuario. Después el programa debe calcular y mostrar por pantalla la cantidad de ahorros tras el primer, segundo y tercer años. Redondear cada cantidad a dos decimales."
   ]
  },
  {
   "cell_type": "code",
   "execution_count": 11,
   "metadata": {},
   "outputs": [],
   "source": [
    "# Solución"
   ]
  },
  {
   "cell_type": "markdown",
   "metadata": {},
   "source": [
    "### Ejercicio 12\n",
    "Una panadería vende barras de pan a $3.49 cada una. El pan que no es el día tiene un descuento del 60%. Escribir un programa que comience leyendo el número de barras vendidas que no son del día. Después el programa debe mostrar el precio habitual de una barra de pan, el descuento que se le hace por no ser fresca y el coste final total."
   ]
  },
  {
   "cell_type": "code",
   "execution_count": 12,
   "metadata": {},
   "outputs": [],
   "source": [
    "# Solución"
   ]
  }
 ],
 "metadata": {
  "kernelspec": {
   "display_name": "Python 3.10.5 64-bit (system)",
   "language": "python",
   "name": "python3"
  },
  "language_info": {
   "codemirror_mode": {
    "name": "ipython",
    "version": 3
   },
   "file_extension": ".py",
   "mimetype": "text/x-python",
   "name": "python",
   "nbconvert_exporter": "python",
   "pygments_lexer": "ipython3",
   "version": "3.10.5"
  },
  "orig_nbformat": 4,
  "vscode": {
   "interpreter": {
    "hash": "77abe205c72c096294b3a4a26264acecc5dbf8fb16ba6ed375b92e4d65784221"
   }
  }
 },
 "nbformat": 4,
 "nbformat_minor": 2
}
